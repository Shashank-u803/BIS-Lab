import random

# Prompt user for fitness function using integer x
print("Enter a fitness function in terms of integer x (1 to 10)")
print("Example: x * x or 10 - abs(x - 5)")
user_func = input("Fitness function f(x) = ")

# Safe evaluation of fitness
def fitness(x):
    return eval(user_func, {"__builtins__": None}, {"x": x})

# Parameters
pop_size = 4
generations = 5
mutation_rate = 0.1
crossover_rate = 0.7
min_val = 1
max_val = 10

# Convert integer to binary string (5 bits)
def encode(x):
    return format(x, "05b")

# Convert binary string to integer
def decode(b):
    return int(b, 2)

# Initialize random population
population = [random.randint(min_val, max_val) for _ in range(pop_size)]

for gen in range(1, generations + 1):
    print(f"\n=== Generation {gen} ===")
    fitness_vals = [fitness(x) for x in population]
    total_fit = sum(fitness_vals)
    probs = [f / total_fit if total_fit > 0 else 1 / pop_size for f in fitness_vals]

    # Print table
    print(f"{'Int':>5} | {'Binary':>8} | {'f(x)':>8} | {'Prob':>8}")
    print("-" * 40)
    for x, fval, p in zip(population, fitness_vals, probs):
        print(f"{x:5} | {encode(x):>8} | {fval:8.4f} | {p:8.4f}")

    # Selection
    selected = random.choices(population, weights=probs, k=pop_size)

    # Crossover
    offspring = []
    for i in range(0, pop_size, 2):
        p1 = encode(selected[i])
        p2 = encode(selected[(i + 1) % pop_size])
        if random.random() < crossover_rate:
            pt = random.randint(1, 4)
            c1 = p1[:pt] + p2[pt:]
            c2 = p2[:pt] + p1[pt:]
        else:
            c1, c2 = p1, p2
        offspring.append(decode(c1))
        offspring.append(decode(c2))

    # Clip offspring to valid range
    offspring = [max(min(x, max_val), min_val) for x in offspring]

    # Mutation
    mutated = []
    for x in offspring:
        b = list(encode(x))
        for i in range(len(b)):
            if random.random() < mutation_rate:
                b[i] = '1' if b[i] == '0' else '0'
        x_new = decode("".join(b))
        x_new = max(min(x_new, max_val), min_val)
        mutated.append(x_new)

    # Update population
    population = mutated

# Final generation summary
fitness_vals = [fitness(x) for x in population]
best_idx = fitness_vals.index(max(fitness_vals))
best_x = population[best_idx]
best_f = fitness_vals[best_idx]

print(f"\n=== Final Generation ===")
print(f"{'Int':>5} | {'Binary':>8} | {'f(x)':>8}")
print("-" * 30)
for x, fval in zip(population, fitness_vals):
    print(f"{x:5} | {encode(x):>8} | {fval:8.4f}")
print(f"\nBest Individual: x = {best_x}, f(x) = {best_f:.4f}")
